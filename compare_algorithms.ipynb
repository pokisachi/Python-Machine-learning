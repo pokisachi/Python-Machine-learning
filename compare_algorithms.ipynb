{
 "cells": [
  {
   "cell_type": "code",
   "execution_count": 1,
   "id": "a422b3c7-7124-481c-b9f2-e9e451cf20bd",
   "metadata": {},
   "outputs": [],
   "source": [
    "import subprocess"
   ]
  },
  {
   "cell_type": "code",
   "execution_count": 8,
   "id": "85a54970-9831-412a-8e58-c7383ecf29d6",
   "metadata": {},
   "outputs": [
    {
     "name": "stdout",
     "output_type": "stream",
     "text": [
      "SVM accuracy value: Not available\n",
      "Decision Tree accuracy value: Not available\n",
      "XGBoost accuracy value: Not available\n"
     ]
    }
   ],
   "source": [
    "def run_algorithm(file_name):\n",
    "    try:\n",
    "        result = subprocess.run([\"jupyter\", \"nbconvert\", \"--to\", \"notebook\", \"--execute\", file_name,\n",
    "                                  \"--output\", file_name], capture_output=True, text=True)\n",
    "        return result.stdout.strip() \n",
    "    except Exception as e:\n",
    "        print(f\"Error executing {file_name}: {e}\")\n",
    "        return None  \n",
    "\n",
    "\n",
    "svm_accuracy = run_algorithm(\"SVC.ipynb\")\n",
    "dt_accuracy = run_algorithm(\"decision_tree_algorithm.ipynb\")\n",
    "xgb_accuracy = run_algorithm(\"xgboost.ipynb\")\n",
    "\n",
    "# Now you can print without the error\n",
    "print(f\"SVM accuracy value: {svm_accuracy or 'Not available'}\")\n",
    "print(f\"Decision Tree accuracy value: {dt_accuracy or 'Not available'}\")\n",
    "print(f\"XGBoost accuracy value: {xgb_accuracy or 'Not available'}\")"
   ]
  },
  {
   "cell_type": "code",
   "execution_count": null,
   "id": "0b022615-36bc-41a8-b82e-44f2a2d45b82",
   "metadata": {},
   "outputs": [],
   "source": []
  }
 ],
 "metadata": {
  "kernelspec": {
   "display_name": "Python 3 (ipykernel)",
   "language": "python",
   "name": "python3"
  },
  "language_info": {
   "codemirror_mode": {
    "name": "ipython",
    "version": 3
   },
   "file_extension": ".py",
   "mimetype": "text/x-python",
   "name": "python",
   "nbconvert_exporter": "python",
   "pygments_lexer": "ipython3",
   "version": "3.12.4"
  }
 },
 "nbformat": 4,
 "nbformat_minor": 5
}
